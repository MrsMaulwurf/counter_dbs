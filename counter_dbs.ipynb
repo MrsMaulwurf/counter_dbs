{
 "cells": [
  {
   "cell_type": "code",
   "execution_count": 52,
   "id": "09464420",
   "metadata": {},
   "outputs": [],
   "source": [
    "import pandas as pd\n",
    "# pandas importieren\n",
    "\n",
    "import zipfile\n",
    "# zipfile importieren, um zip-Datein nutzen zu können\n",
    "\n",
    "import csv\n",
    "# csv importieren, um csv einzulesen\n",
    "\n",
    "import tempfile\n",
    "# zur Ablage von tempfiles\n",
    "\n",
    "from pathlib import Path\n",
    "# zur Erzeugung des lokalen Verzeichnisses zur Speicherung der tempfiles\n",
    "\n",
    "import numpy as np\n",
    "# numpy Library importieren"
   ]
  },
  {
   "cell_type": "code",
   "execution_count": 53,
   "id": "ff00888e",
   "metadata": {},
   "outputs": [],
   "source": [
    "subdir = Path(tempfile.gettempdir()).joinpath('Journal_Report_VZ')\n",
    "subdir.mkdir(exist_ok=True, parents=True)\n",
    "# lokales Verzeichnis \"Journal_Report_VZ\" (= subdir) erzeugen"
   ]
  },
  {
   "cell_type": "code",
   "execution_count": 54,
   "id": "990dae87",
   "metadata": {},
   "outputs": [
    {
     "name": "stdout",
     "output_type": "stream",
     "text": [
      "File Name                                             Modified             Size\n",
      "counter5_tr_j1_2021-01-2021-12_2000150893.csv  2022-07-01 13:51:14       311258\n",
      "TR_J1_20220701_0254.csv                        2022-07-15 13:34:44        83493\n"
     ]
    }
   ],
   "source": [
    "from zipfile import ZipFile\n",
    "test_file_name = r\"C:\\Users\\tinag\\Desktop\\COUNTER_Journal_Report.zip\"\n",
    "# %% hier lokalen Dateipfad einsetzen %%\n",
    "\n",
    "with ZipFile(test_file_name, 'r') as zip:\n",
    "    zip.printdir()\n",
    "    zip.extractall(subdir)\n",
    "# zipfile auslesen\n",
    "# Datein temporär speichern"
   ]
  },
  {
   "cell_type": "code",
   "execution_count": 55,
   "id": "03330aa8",
   "metadata": {},
   "outputs": [
    {
     "name": "stdout",
     "output_type": "stream",
     "text": [
      "C:\\Users\\tinag\\AppData\\Local\\Temp\\Journal_Report_VZ\n"
     ]
    }
   ],
   "source": [
    "print(subdir)\n",
    "#Anzeige erstelltes Verzeichnis subdir"
   ]
  },
  {
   "cell_type": "code",
   "execution_count": 56,
   "id": "5a4e4ebd",
   "metadata": {},
   "outputs": [
    {
     "name": "stdout",
     "output_type": "stream",
     "text": [
      "C:\\Users\\tinag\\AppData\\Local\\Temp\\Journal_Report_VZ\\counter5_tr_j1_2021-01-2021-12_2000150893.csv\n",
      "C:\\Users\\tinag\\AppData\\Local\\Temp\\Journal_Report_VZ\\TR_J1_20220701_0254.csv\n"
     ]
    }
   ],
   "source": [
    "for p in subdir.glob('*.csv'):\n",
    "    print(p)\n",
    "#Anzeige aller csv-Datein im erstellten Verzeichnis subdir"
   ]
  },
  {
   "cell_type": "code",
   "execution_count": 72,
   "id": "d1679a99",
   "metadata": {},
   "outputs": [
    {
     "name": "stdout",
     "output_type": "stream",
     "text": [
      "                    0                                                  1\n",
      "0         Report_Name               Journal Requests (Excluding OA_Gold)\n",
      "1           Report_ID                                              TR_J1\n",
      "2             Release                                                  5\n",
      "3    Institution_Name                        TH Bibliothek Aschaffenburg\n",
      "4      Institution_ID                                      SN:2000150893\n",
      "5        Metric_Types          Total_Item_Requests; Unique_Item_Requests\n",
      "6      Report_Filters  Access_Method=Regular; Access_Type=Controlled;...\n",
      "7   Report_Attributes                                                NaN\n",
      "8          Exceptions                                                NaN\n",
      "9    Reporting_Period         Begin_Date=2021-01-01; End_Date=2021-12-31\n",
      "10            Created                               2022-07-01T09:27:29Z\n",
      "11         Created_By                                     SpringerNature\n"
     ]
    }
   ],
   "source": [
    "df01 = pd.read_csv(r'C:\\\\Users\\tinag\\AppData\\Local\\Temp\\Journal_Report_VZ\\counter5_tr_j1_2021-01-2021-12_2000150893.csv', on_bad_lines='skip')\n",
    "df01 = df.drop(df.index[0:11])\n",
    "df.to_csv(\"report_stammdaten_cleaned\")\n",
    "\n",
    "df01 = pd.read_csv(r\"C:\\Users\\tinag\\AppData\\Local\\Temp\\Journal_Report_VZ\\counter5_tr_j1_2021-01-2021-12_2000150893.csv\", sep=\",\", on_bad_lines='skip', header=None)\n",
    "print(df01)\n",
    "\n",
    "# csv Datei bereinigen, da standardmäßiger Header mit Stammdaten im COUNTER Format bei der Weiterarbeit stört (= Zeile 0 bis 11)\n",
    "# COUNTER Daten beginnen erst in Zeile 15\n",
    "# der Stammdaten-Header (= Zeile 0 bis 11) soll als Spalten in die Tabelle integriert werden\n",
    "# Ausgabe des Stammdaten-Header"
   ]
  },
  {
   "cell_type": "code",
   "execution_count": 73,
   "id": "6dc12cdd",
   "metadata": {},
   "outputs": [
    {
     "name": "stdout",
     "output_type": "stream",
     "text": [
      "                                     0          1        2   \\\n",
      "0                           Report_Name  Report_ID  Release   \n",
      "1  Journal Requests (Excluding OA_Gold)      TR_J1        5   \n",
      "\n",
      "                            3               4   \\\n",
      "0             Institution_Name  Institution_ID   \n",
      "1  TH Bibliothek Aschaffenburg   SN:2000150893   \n",
      "\n",
      "                                          5   \\\n",
      "0                               Metric_Types   \n",
      "1  Total_Item_Requests; Unique_Item_Requests   \n",
      "\n",
      "                                                  6                  7   \\\n",
      "0                                     Report_Filters  Report_Attributes   \n",
      "1  Access_Method=Regular; Access_Type=Controlled;...                NaN   \n",
      "\n",
      "           8                                           9   \\\n",
      "0  Exceptions                            Reporting_Period   \n",
      "1         NaN  Begin_Date=2021-01-01; End_Date=2021-12-31   \n",
      "\n",
      "                     10              11  \n",
      "0               Created      Created_By  \n",
      "1  2022-07-01T09:27:29Z  SpringerNature  \n"
     ]
    }
   ],
   "source": [
    "print(df01.T)\n",
    "# Zeilen der Spalte 0 zu Spalten transformieren"
   ]
  },
  {
   "cell_type": "code",
   "execution_count": 85,
   "id": "6b48f9e7",
   "metadata": {},
   "outputs": [
    {
     "ename": "ParserError",
     "evalue": "Error tokenizing data. C error: Expected 2 fields in line 14, saw 23\n",
     "output_type": "error",
     "traceback": [
      "\u001b[1;31m---------------------------------------------------------------------------\u001b[0m",
      "\u001b[1;31mParserError\u001b[0m                               Traceback (most recent call last)",
      "\u001b[1;32m~\\AppData\\Local\\Temp/ipykernel_6824/1349502605.py\u001b[0m in \u001b[0;36m<module>\u001b[1;34m\u001b[0m\n\u001b[1;32m----> 1\u001b[1;33m \u001b[0mdf02\u001b[0m \u001b[1;33m=\u001b[0m \u001b[0mpd\u001b[0m\u001b[1;33m.\u001b[0m\u001b[0mread_csv\u001b[0m\u001b[1;33m(\u001b[0m\u001b[1;34mr'C:\\\\Users\\tinag\\AppData\\Local\\Temp\\Journal_Report_VZ\\counter5_tr_j1_2021-01-2021-12_2000150893.csv'\u001b[0m\u001b[1;33m,\u001b[0m \u001b[0msep\u001b[0m\u001b[1;33m=\u001b[0m\u001b[1;34m\",\"\u001b[0m\u001b[1;33m)\u001b[0m\u001b[1;33m\u001b[0m\u001b[1;33m\u001b[0m\u001b[0m\n\u001b[0m\u001b[0;32m      2\u001b[0m \u001b[0mdf02\u001b[0m \u001b[1;33m=\u001b[0m \u001b[0mdf\u001b[0m\u001b[1;33m.\u001b[0m\u001b[0mdrop\u001b[0m\u001b[1;33m(\u001b[0m\u001b[0mdf\u001b[0m\u001b[1;33m.\u001b[0m\u001b[0mindex\u001b[0m\u001b[1;33m[\u001b[0m\u001b[1;36m18\u001b[0m\u001b[1;33m:\u001b[0m\u001b[1;36m30\u001b[0m\u001b[1;33m]\u001b[0m\u001b[1;33m)\u001b[0m\u001b[1;33m\u001b[0m\u001b[1;33m\u001b[0m\u001b[0m\n\u001b[0;32m      3\u001b[0m \u001b[0mdf\u001b[0m\u001b[1;33m.\u001b[0m\u001b[0mto_csv\u001b[0m\u001b[1;33m(\u001b[0m\u001b[1;34m\"counter\"\u001b[0m\u001b[1;33m)\u001b[0m\u001b[1;33m\u001b[0m\u001b[1;33m\u001b[0m\u001b[0m\n\u001b[0;32m      4\u001b[0m \u001b[1;33m\u001b[0m\u001b[0m\n\u001b[0;32m      5\u001b[0m \u001b[0mdf02\u001b[0m \u001b[1;33m=\u001b[0m \u001b[0mpd\u001b[0m\u001b[1;33m.\u001b[0m\u001b[0mread_csv\u001b[0m\u001b[1;33m(\u001b[0m\u001b[1;34mr\"C:\\Users\\tinag\\AppData\\Local\\Temp\\Journal_Report_VZ\\counter5_tr_j1_2021-01-2021-12_2000150893.csv\"\u001b[0m\u001b[1;33m)\u001b[0m\u001b[1;33m\u001b[0m\u001b[1;33m\u001b[0m\u001b[0m\n",
      "\u001b[1;32m~\\anaconda3\\anaconda3b\\lib\\site-packages\\pandas\\util\\_decorators.py\u001b[0m in \u001b[0;36mwrapper\u001b[1;34m(*args, **kwargs)\u001b[0m\n\u001b[0;32m    309\u001b[0m                     \u001b[0mstacklevel\u001b[0m\u001b[1;33m=\u001b[0m\u001b[0mstacklevel\u001b[0m\u001b[1;33m,\u001b[0m\u001b[1;33m\u001b[0m\u001b[1;33m\u001b[0m\u001b[0m\n\u001b[0;32m    310\u001b[0m                 )\n\u001b[1;32m--> 311\u001b[1;33m             \u001b[1;32mreturn\u001b[0m \u001b[0mfunc\u001b[0m\u001b[1;33m(\u001b[0m\u001b[1;33m*\u001b[0m\u001b[0margs\u001b[0m\u001b[1;33m,\u001b[0m \u001b[1;33m**\u001b[0m\u001b[0mkwargs\u001b[0m\u001b[1;33m)\u001b[0m\u001b[1;33m\u001b[0m\u001b[1;33m\u001b[0m\u001b[0m\n\u001b[0m\u001b[0;32m    312\u001b[0m \u001b[1;33m\u001b[0m\u001b[0m\n\u001b[0;32m    313\u001b[0m         \u001b[1;32mreturn\u001b[0m \u001b[0mwrapper\u001b[0m\u001b[1;33m\u001b[0m\u001b[1;33m\u001b[0m\u001b[0m\n",
      "\u001b[1;32m~\\anaconda3\\anaconda3b\\lib\\site-packages\\pandas\\io\\parsers\\readers.py\u001b[0m in \u001b[0;36mread_csv\u001b[1;34m(filepath_or_buffer, sep, delimiter, header, names, index_col, usecols, squeeze, prefix, mangle_dupe_cols, dtype, engine, converters, true_values, false_values, skipinitialspace, skiprows, skipfooter, nrows, na_values, keep_default_na, na_filter, verbose, skip_blank_lines, parse_dates, infer_datetime_format, keep_date_col, date_parser, dayfirst, cache_dates, iterator, chunksize, compression, thousands, decimal, lineterminator, quotechar, quoting, doublequote, escapechar, comment, encoding, encoding_errors, dialect, error_bad_lines, warn_bad_lines, on_bad_lines, delim_whitespace, low_memory, memory_map, float_precision, storage_options)\u001b[0m\n\u001b[0;32m    584\u001b[0m     \u001b[0mkwds\u001b[0m\u001b[1;33m.\u001b[0m\u001b[0mupdate\u001b[0m\u001b[1;33m(\u001b[0m\u001b[0mkwds_defaults\u001b[0m\u001b[1;33m)\u001b[0m\u001b[1;33m\u001b[0m\u001b[1;33m\u001b[0m\u001b[0m\n\u001b[0;32m    585\u001b[0m \u001b[1;33m\u001b[0m\u001b[0m\n\u001b[1;32m--> 586\u001b[1;33m     \u001b[1;32mreturn\u001b[0m \u001b[0m_read\u001b[0m\u001b[1;33m(\u001b[0m\u001b[0mfilepath_or_buffer\u001b[0m\u001b[1;33m,\u001b[0m \u001b[0mkwds\u001b[0m\u001b[1;33m)\u001b[0m\u001b[1;33m\u001b[0m\u001b[1;33m\u001b[0m\u001b[0m\n\u001b[0m\u001b[0;32m    587\u001b[0m \u001b[1;33m\u001b[0m\u001b[0m\n\u001b[0;32m    588\u001b[0m \u001b[1;33m\u001b[0m\u001b[0m\n",
      "\u001b[1;32m~\\anaconda3\\anaconda3b\\lib\\site-packages\\pandas\\io\\parsers\\readers.py\u001b[0m in \u001b[0;36m_read\u001b[1;34m(filepath_or_buffer, kwds)\u001b[0m\n\u001b[0;32m    486\u001b[0m \u001b[1;33m\u001b[0m\u001b[0m\n\u001b[0;32m    487\u001b[0m     \u001b[1;32mwith\u001b[0m \u001b[0mparser\u001b[0m\u001b[1;33m:\u001b[0m\u001b[1;33m\u001b[0m\u001b[1;33m\u001b[0m\u001b[0m\n\u001b[1;32m--> 488\u001b[1;33m         \u001b[1;32mreturn\u001b[0m \u001b[0mparser\u001b[0m\u001b[1;33m.\u001b[0m\u001b[0mread\u001b[0m\u001b[1;33m(\u001b[0m\u001b[0mnrows\u001b[0m\u001b[1;33m)\u001b[0m\u001b[1;33m\u001b[0m\u001b[1;33m\u001b[0m\u001b[0m\n\u001b[0m\u001b[0;32m    489\u001b[0m \u001b[1;33m\u001b[0m\u001b[0m\n\u001b[0;32m    490\u001b[0m \u001b[1;33m\u001b[0m\u001b[0m\n",
      "\u001b[1;32m~\\anaconda3\\anaconda3b\\lib\\site-packages\\pandas\\io\\parsers\\readers.py\u001b[0m in \u001b[0;36mread\u001b[1;34m(self, nrows)\u001b[0m\n\u001b[0;32m   1045\u001b[0m     \u001b[1;32mdef\u001b[0m \u001b[0mread\u001b[0m\u001b[1;33m(\u001b[0m\u001b[0mself\u001b[0m\u001b[1;33m,\u001b[0m \u001b[0mnrows\u001b[0m\u001b[1;33m=\u001b[0m\u001b[1;32mNone\u001b[0m\u001b[1;33m)\u001b[0m\u001b[1;33m:\u001b[0m\u001b[1;33m\u001b[0m\u001b[1;33m\u001b[0m\u001b[0m\n\u001b[0;32m   1046\u001b[0m         \u001b[0mnrows\u001b[0m \u001b[1;33m=\u001b[0m \u001b[0mvalidate_integer\u001b[0m\u001b[1;33m(\u001b[0m\u001b[1;34m\"nrows\"\u001b[0m\u001b[1;33m,\u001b[0m \u001b[0mnrows\u001b[0m\u001b[1;33m)\u001b[0m\u001b[1;33m\u001b[0m\u001b[1;33m\u001b[0m\u001b[0m\n\u001b[1;32m-> 1047\u001b[1;33m         \u001b[0mindex\u001b[0m\u001b[1;33m,\u001b[0m \u001b[0mcolumns\u001b[0m\u001b[1;33m,\u001b[0m \u001b[0mcol_dict\u001b[0m \u001b[1;33m=\u001b[0m \u001b[0mself\u001b[0m\u001b[1;33m.\u001b[0m\u001b[0m_engine\u001b[0m\u001b[1;33m.\u001b[0m\u001b[0mread\u001b[0m\u001b[1;33m(\u001b[0m\u001b[0mnrows\u001b[0m\u001b[1;33m)\u001b[0m\u001b[1;33m\u001b[0m\u001b[1;33m\u001b[0m\u001b[0m\n\u001b[0m\u001b[0;32m   1048\u001b[0m \u001b[1;33m\u001b[0m\u001b[0m\n\u001b[0;32m   1049\u001b[0m         \u001b[1;32mif\u001b[0m \u001b[0mindex\u001b[0m \u001b[1;32mis\u001b[0m \u001b[1;32mNone\u001b[0m\u001b[1;33m:\u001b[0m\u001b[1;33m\u001b[0m\u001b[1;33m\u001b[0m\u001b[0m\n",
      "\u001b[1;32m~\\anaconda3\\anaconda3b\\lib\\site-packages\\pandas\\io\\parsers\\c_parser_wrapper.py\u001b[0m in \u001b[0;36mread\u001b[1;34m(self, nrows)\u001b[0m\n\u001b[0;32m    221\u001b[0m         \u001b[1;32mtry\u001b[0m\u001b[1;33m:\u001b[0m\u001b[1;33m\u001b[0m\u001b[1;33m\u001b[0m\u001b[0m\n\u001b[0;32m    222\u001b[0m             \u001b[1;32mif\u001b[0m \u001b[0mself\u001b[0m\u001b[1;33m.\u001b[0m\u001b[0mlow_memory\u001b[0m\u001b[1;33m:\u001b[0m\u001b[1;33m\u001b[0m\u001b[1;33m\u001b[0m\u001b[0m\n\u001b[1;32m--> 223\u001b[1;33m                 \u001b[0mchunks\u001b[0m \u001b[1;33m=\u001b[0m \u001b[0mself\u001b[0m\u001b[1;33m.\u001b[0m\u001b[0m_reader\u001b[0m\u001b[1;33m.\u001b[0m\u001b[0mread_low_memory\u001b[0m\u001b[1;33m(\u001b[0m\u001b[0mnrows\u001b[0m\u001b[1;33m)\u001b[0m\u001b[1;33m\u001b[0m\u001b[1;33m\u001b[0m\u001b[0m\n\u001b[0m\u001b[0;32m    224\u001b[0m                 \u001b[1;31m# destructive to chunks\u001b[0m\u001b[1;33m\u001b[0m\u001b[1;33m\u001b[0m\u001b[0m\n\u001b[0;32m    225\u001b[0m                 \u001b[0mdata\u001b[0m \u001b[1;33m=\u001b[0m \u001b[0m_concatenate_chunks\u001b[0m\u001b[1;33m(\u001b[0m\u001b[0mchunks\u001b[0m\u001b[1;33m)\u001b[0m\u001b[1;33m\u001b[0m\u001b[1;33m\u001b[0m\u001b[0m\n",
      "\u001b[1;32m~\\anaconda3\\anaconda3b\\lib\\site-packages\\pandas\\_libs\\parsers.pyx\u001b[0m in \u001b[0;36mpandas._libs.parsers.TextReader.read_low_memory\u001b[1;34m()\u001b[0m\n",
      "\u001b[1;32m~\\anaconda3\\anaconda3b\\lib\\site-packages\\pandas\\_libs\\parsers.pyx\u001b[0m in \u001b[0;36mpandas._libs.parsers.TextReader._read_rows\u001b[1;34m()\u001b[0m\n",
      "\u001b[1;32m~\\anaconda3\\anaconda3b\\lib\\site-packages\\pandas\\_libs\\parsers.pyx\u001b[0m in \u001b[0;36mpandas._libs.parsers.TextReader._tokenize_rows\u001b[1;34m()\u001b[0m\n",
      "\u001b[1;32m~\\anaconda3\\anaconda3b\\lib\\site-packages\\pandas\\_libs\\parsers.pyx\u001b[0m in \u001b[0;36mpandas._libs.parsers.raise_parser_error\u001b[1;34m()\u001b[0m\n",
      "\u001b[1;31mParserError\u001b[0m: Error tokenizing data. C error: Expected 2 fields in line 14, saw 23\n"
     ]
    }
   ],
   "source": [
    "df02 = pd.read_csv(r'C:\\\\Users\\tinag\\AppData\\Local\\Temp\\Journal_Report_VZ\\counter5_tr_j1_2021-01-2021-12_2000150893.csv', sep=\",\")\n",
    "df02 = df.drop(df.index[18:30])\n",
    "df.to_csv(\"counter\")\n",
    "\n",
    "df02 = pd.read_csv(r\"C:\\Users\\tinag\\AppData\\Local\\Temp\\Journal_Report_VZ\\counter5_tr_j1_2021-01-2021-12_2000150893.csv\")\n",
    "print(df02)\n",
    "\n",
    "# csv Datei bereinigen, da standardmäßiger Header mit Stammdaten im COUNTER Format bei der Weiterarbeit stört (= Zeile 0 bis 11)\n",
    "# COUNTER Daten beginnen erst in Zeile 15\n",
    "# Ausgabe der COUNTER Daten ab Zeile 15\n",
    "\n",
    "# Bereinigung der Daten, da Fehler \"Error tokenizing data. C error\" auftritt\n",
    "# Vermutung Fehler: Informationen (z. B. Buchtitel) enthalten ebenfalls Kommas, sodass ein Trennzeichenfehler auftritt"
   ]
  },
  {
   "cell_type": "code",
   "execution_count": null,
   "id": "aecea5c2",
   "metadata": {},
   "outputs": [],
   "source": []
  },
  {
   "cell_type": "code",
   "execution_count": null,
   "id": "cccf3881",
   "metadata": {},
   "outputs": [],
   "source": []
  },
  {
   "cell_type": "code",
   "execution_count": 60,
   "id": "89f2ac6b",
   "metadata": {},
   "outputs": [
    {
     "data": {
      "text/html": [
       "<div>\n",
       "<style scoped>\n",
       "    .dataframe tbody tr th:only-of-type {\n",
       "        vertical-align: middle;\n",
       "    }\n",
       "\n",
       "    .dataframe tbody tr th {\n",
       "        vertical-align: top;\n",
       "    }\n",
       "\n",
       "    .dataframe thead th {\n",
       "        text-align: right;\n",
       "    }\n",
       "</style>\n",
       "<table border=\"1\" class=\"dataframe\">\n",
       "  <thead>\n",
       "    <tr style=\"text-align: right;\">\n",
       "      <th></th>\n",
       "      <th>Anbieter</th>\n",
       "      <th>Report_Name</th>\n",
       "      <th>Report_ID</th>\n",
       "      <th>Metric Type</th>\n",
       "      <th>Begin_Date</th>\n",
       "      <th>End_Date</th>\n",
       "      <th>Reporting_Period_Total</th>\n",
       "      <th>Januar</th>\n",
       "      <th>Februar</th>\n",
       "      <th>März</th>\n",
       "      <th>April</th>\n",
       "      <th>Mai</th>\n",
       "      <th>Juni</th>\n",
       "      <th>Juli</th>\n",
       "      <th>August</th>\n",
       "      <th>September</th>\n",
       "      <th>Oktober</th>\n",
       "      <th>November</th>\n",
       "      <th>Dezember</th>\n",
       "    </tr>\n",
       "  </thead>\n",
       "  <tbody>\n",
       "  </tbody>\n",
       "</table>\n",
       "</div>"
      ],
      "text/plain": [
       "Empty DataFrame\n",
       "Columns: [Anbieter, Report_Name, Report_ID, Metric Type, Begin_Date, End_Date, Reporting_Period_Total, Januar, Februar, März, April, Mai, Juni, Juli, August, September, Oktober, November, Dezember]\n",
       "Index: []"
      ]
     },
     "execution_count": 60,
     "metadata": {},
     "output_type": "execute_result"
    }
   ],
   "source": [
    "data = {\n",
    "    \"Anbieter\":[],\n",
    "    \"Report_Name\":[],\n",
    "    \"Report_ID\":[],\n",
    "    \"Metric Type\":[],\n",
    "    \"Begin_Date\":[],\n",
    "    \"End_Date\":[],\n",
    "    \"Reporting_Period_Total\":[],\n",
    "    \"Januar\":[],\n",
    "    \"Februar\":[],\n",
    "    \"März\":[],\n",
    "    \"April\":[],\n",
    "    \"Mai\":[],\n",
    "    \"Juni\":[],\n",
    "    \"Juli\":[],\n",
    "    \"August\":[],\n",
    "    \"September\":[],\n",
    "    \"Oktober\":[],\n",
    "    \"November\":[],\n",
    "    \"Dezember\":[],\n",
    "}\n",
    "df_csv = pd.DataFrame(data)\n",
    "df_csv\n",
    "# Dateframe \"Ergebniss_Journal_Report\" erstellen"
   ]
  },
  {
   "cell_type": "code",
   "execution_count": null,
   "id": "483e2329",
   "metadata": {},
   "outputs": [],
   "source": []
  },
  {
   "cell_type": "code",
   "execution_count": null,
   "id": "b75c736e",
   "metadata": {},
   "outputs": [],
   "source": []
  },
  {
   "cell_type": "code",
   "execution_count": null,
   "id": "62f8a9c4",
   "metadata": {},
   "outputs": [],
   "source": []
  },
  {
   "cell_type": "code",
   "execution_count": 61,
   "id": "c27deba9",
   "metadata": {},
   "outputs": [
    {
     "data": {
      "text/plain": [
       "';Anbieter;Report_Name;Report_ID;Metric Type;Begin_Date;End_Date;Reporting_Period_Total;Januar;Februar;März;April;Mai;Juni;Juli;August;September;Oktober;November;Dezember\\r\\n'"
      ]
     },
     "execution_count": 61,
     "metadata": {},
     "output_type": "execute_result"
    }
   ],
   "source": [
    "df_csv.to_csv(path_or_buf= None,\n",
    "                 sep= \";\",\n",
    "                 na_rep= \"\",\n",
    "                 float_format= None,\n",
    "                 columns= None,\n",
    "                 header= True,\n",
    "                 index= True,\n",
    "                 index_label= None,\n",
    "                 mode= \"w\",\n",
    "                 encoding= None,\n",
    "                 compression= \"infer\",\n",
    "                 quoting= None,\n",
    "                 quotechar= \"'\",\n",
    "                 line_terminator= None,\n",
    "                 chunksize= None,\n",
    "                 date_format= None,\n",
    "                 doublequote= True,\n",
    "                 escapechar= None,\n",
    "                 decimal= \",\")\n",
    "\n",
    "# Uwandlung DataFrame \"Ergebniss_Journal_Report\" in csv-Dateiformat"
   ]
  },
  {
   "cell_type": "code",
   "execution_count": null,
   "id": "8d4e7db4",
   "metadata": {},
   "outputs": [],
   "source": []
  }
 ],
 "metadata": {
  "kernelspec": {
   "display_name": "Python 3 (ipykernel)",
   "language": "python",
   "name": "python3"
  },
  "language_info": {
   "codemirror_mode": {
    "name": "ipython",
    "version": 3
   },
   "file_extension": ".py",
   "mimetype": "text/x-python",
   "name": "python",
   "nbconvert_exporter": "python",
   "pygments_lexer": "ipython3",
   "version": "3.9.7"
  }
 },
 "nbformat": 4,
 "nbformat_minor": 5
}
